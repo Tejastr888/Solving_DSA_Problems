{
 "cells": [
  {
   "cell_type": "code",
   "execution_count": 28,
   "metadata": {},
   "outputs": [
    {
     "name": "stdout",
     "output_type": "stream",
     "text": [
      "[(0, 1), (1, 2), (2, 1), (1, 1), (2, 0), (0, 2), (2, 2)]\n"
     ]
    }
   ],
   "source": [
    "from collections import deque\n",
    "from typing import List\n",
    "\n",
    "class Solution:\n",
    "    def pacificAtlantic(self, heights: List[List[int]]) -> List[List[int]]:\n",
    "        p_que = deque()\n",
    "        p_seen = set()\n",
    "        \n",
    "        a_que = deque()\n",
    "        a_seen = set()\n",
    "        \n",
    "        m, n = len(heights), len(heights[0])\n",
    "\n",
    "        for j in range(n):\n",
    "            p_que.append((0, j))\n",
    "            p_seen.add((0, j))\n",
    "            \n",
    "        for i in range(1, m):\n",
    "            p_que.append((i, 0))\n",
    "            p_seen.add((i, 0))\n",
    "            \n",
    "        for i in range(m):\n",
    "            a_que.append((i, n - 1))\n",
    "            a_seen.add((i, n - 1))\n",
    "            \n",
    "        for j in range(n - 1):\n",
    "            a_que.append((m - 1, j))\n",
    "            a_seen.add((m - 1, j))\n",
    "\n",
    "        def get_coords(que, seen):\n",
    "            coords = set()\n",
    "            while que:\n",
    "                i, j = que.popleft()\n",
    "                for i_off, j_off in [(0, 1), (1, 0), (-1, 0), (0, -1)]:\n",
    "                    r, c = i + i_off, j + j_off\n",
    "                    if 0 <= r < m and 0 <= c < n and heights[r][c] >= heights[i][j] and (r, c) not in seen:\n",
    "                        seen.add((r, c))\n",
    "                        que.append((r, c))\n",
    "            \n",
    "        get_coords(p_que, p_seen)\n",
    "        get_coords(a_que, a_seen)\n",
    "        return list(p_seen.intersection(a_seen))\n",
    "\n",
    "# Time Complexity: O(m*n)\n",
    "# Space Complexity: O(m*n)\n",
    "\n",
    "                \n",
    "\n",
    "\n",
    "    \n",
    "if __name__== \"__main__\":\n",
    "    sol=Solution()\n",
    "    test_heights = \n",
    "    [[1, 2, 2],\n",
    "     [3, 4, 5], \n",
    "     [6, 7, 8]]\n",
    "    res=sol.pacificAtlantic(test_heights)\n",
    "    print(res)\n",
    "\n",
    "\n",
    "\n"
   ]
  },
  {
   "cell_type": "code",
   "execution_count": 26,
   "metadata": {},
   "outputs": [
    {
     "name": "stdout",
     "output_type": "stream",
     "text": [
      "deque([1, 2])\n",
      "1\n",
      "deque([])\n"
     ]
    }
   ],
   "source": [
    "arr=deque()\n",
    "arr.append(1)\n",
    "arr.append(2)\n",
    "print(arr)\n",
    "left=arr.popleft()\n",
    "print(left)\n",
    "while arr:\n",
    "    arr.popleft()\n",
    "    print(arr)"
   ]
  }
 ],
 "metadata": {
  "kernelspec": {
   "display_name": "Python 3",
   "language": "python",
   "name": "python3"
  },
  "language_info": {
   "codemirror_mode": {
    "name": "ipython",
    "version": 3
   },
   "file_extension": ".py",
   "mimetype": "text/x-python",
   "name": "python",
   "nbconvert_exporter": "python",
   "pygments_lexer": "ipython3",
   "version": "3.12.5"
  }
 },
 "nbformat": 4,
 "nbformat_minor": 2
}
